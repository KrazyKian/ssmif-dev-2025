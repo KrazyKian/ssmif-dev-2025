{
 "cells": [
  {
   "cell_type": "code",
   "execution_count": null,
   "metadata": {},
   "outputs": [],
   "source": [
    "import influxdb_client, os, time\n",
    "from influxdb_client import InfluxDBClient, Point, WritePrecision\n",
    "from influxdb_client.client.write_api import SYNCHRONOUS\n",
    "\n",
    "token = os.environ.get(\"INFLUXDB_TOKEN\")\n",
    "org = \"admin\"\n",
    "url = \"http://localhost:8086\"\n",
    "\n",
    "write_client = influxdb_client.InfluxDBClient(url=url, token=token, org=org)\n"
   ]
  },
  {
   "cell_type": "code",
   "execution_count": null,
   "metadata": {},
   "outputs": [],
   "source": [
    "import pandas as pd"
   ]
  },
  {
   "cell_type": "code",
   "execution_count": null,
   "metadata": {},
   "outputs": [],
   "source": [
    "holdings = pd.read_csv(\"holdings.csv\")\n",
    "holdings[\"Date\"] = pd.to_datetime(holdings[\"Date\"]).dt.strftime(\"%Y-%m-%d\")\n"
   ]
  }
 ],
 "metadata": {
  "language_info": {
   "name": "python"
  }
 },
 "nbformat": 4,
 "nbformat_minor": 2
}
